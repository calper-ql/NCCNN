{
 "cells": [
  {
   "cell_type": "code",
   "execution_count": 1,
   "metadata": {},
   "outputs": [
    {
     "name": "stdout",
     "output_type": "stream",
     "text": [
      "\n",
      "Loading dicts...\n",
      "Total time in fractional seconds: 22.875\n"
     ]
    }
   ],
   "source": [
    "import scan_csv\n",
    "from LabelGenerator import *\n",
    "from client import OIDClient\n",
    "from FastSlidingWindow import *\n",
    "from Util import *\n",
    "\n",
    "ld = scan_csv.open_dicts()\n",
    "train_image_codec = ld['train codec']"
   ]
  },
  {
   "cell_type": "code",
   "execution_count": 2,
   "metadata": {},
   "outputs": [
    {
     "name": "stdout",
     "output_type": "stream",
     "text": [
      "dict_keys(['class names', 'class encodings', 'train codec', 'train class', 'val codec', 'val class'])\n"
     ]
    }
   ],
   "source": [
    "print(ld.keys())"
   ]
  },
  {
   "cell_type": "code",
   "execution_count": 11,
   "metadata": {},
   "outputs": [
    {
     "name": "stdout",
     "output_type": "stream",
     "text": [
      "95535a40d2762f71\n",
      "100\n"
     ]
    }
   ],
   "source": [
    "car_images = ld['train class'][ld['class encodings']['Car']][1000:1100]\n",
    "print(car_images[0])\n",
    "print(len(car_images))"
   ]
  },
  {
   "cell_type": "code",
   "execution_count": 4,
   "metadata": {},
   "outputs": [],
   "source": [
    "import tensorflow as tf\n",
    "import numpy as np\n",
    "tf.enable_eager_execution()\n",
    "config = tf.ConfigProto()\n",
    "config.gpu_options.allow_growth=True\n",
    "tf.Session(config=config).close()"
   ]
  },
  {
   "cell_type": "code",
   "execution_count": 5,
   "metadata": {},
   "outputs": [],
   "source": [
    "def calc_iou(Y_pred, Y):\n",
    "    zeros = np.zeros([Y_pred.shape[0], Y_pred.shape[1], Y_pred.shape[2], 1], dtype=np.float32)\n",
    "    y2 = tf.reshape(Y_pred[:, :, :, 2], [Y_pred.shape[0], Y_pred.shape[1], Y_pred.shape[2], 1])\n",
    "    y4 = tf.reshape(Y_pred[:, :, :, 4], [Y_pred.shape[0], Y_pred.shape[1], Y_pred.shape[2], 1])\n",
    "    pred_x_w = tf.where(y2 > 0.0, y2, zeros) \n",
    "    pred_x_h = tf.where(y4 > 0.0, y4, zeros) \n",
    "    \n",
    "    x1_t = Y_pred[:, :, :, 1:2] - Y[:, :, :, 2:3] / 2.0\n",
    "    x2_t = Y_pred[:, :, :, 1:2] + Y[:, :, :, 2:3] / 2.0\n",
    "    \n",
    "    y1_t = Y_pred[:, :, :, 3:4] - Y[:, :, :, 4:5] / 2.0\n",
    "    y2_t = Y_pred[:, :, :, 3:4] + Y[:, :, :, 4:5] / 2.0\n",
    "    \n",
    "    x1_p = Y_pred[:, :, :, 1:2] - pred_x_w / 2.0\n",
    "    x2_p = Y_pred[:, :, :, 1:2] + pred_x_w / 2.0\n",
    "    \n",
    "    y1_p = Y_pred[:, :, :, 3:4] - pred_x_h / 2.0\n",
    "    y2_p = Y_pred[:, :, :, 3:4] + pred_x_h / 2.0\n",
    "    \n",
    "    cond1 = x2_t < x1_p\n",
    "    cond2 = x2_p < x1_t\n",
    "    cond3 = y2_t < y1_p\n",
    "    cond4 = y2_p < y1_t\n",
    "    cond_all = tf.logical_or(tf.logical_or(tf.logical_or(cond1, cond2), cond3), cond4)\n",
    "    \n",
    "    ious_np = np.zeros([Y_pred.shape[0], Y_pred.shape[1], Y_pred.shape[2], 1], dtype=np.float32)\n",
    "    \n",
    "    '''\n",
    "    far_x = np.min([x2_t, x2_p])\n",
    "    near_x = np.max([x1_t, x1_p])\n",
    "    far_y = np.min([y2_t, y2_p])\n",
    "    near_y = np.max([y1_t, y1_p])\n",
    "    '''\n",
    "    \n",
    "    far_x = tf.where(x2_t < x2_p, x2_t, x2_p)\n",
    "    near_x = tf.where(x1_t > x1_p, x1_t, x1_p)\n",
    "    far_y = tf.where(y2_t < y2_p, y2_t, y2_p)\n",
    "    near_y = tf.where(y1_t > y1_p, y1_t, y1_p)\n",
    "    \n",
    "    inter_area = (far_x - near_x + 1.0) * (far_y - near_y + 1.0)\n",
    "    true_box_area = (x2_t - x1_t + 1.0) * (y2_t - y1_t + 1.0)\n",
    "    pred_box_area = (x2_p - x1_p + 1.0) * (y2_p - y1_p + 1.0)\n",
    "    iou = inter_area / (true_box_area + pred_box_area - inter_area)\n",
    "    iou = tf.where(cond_all, ious_np, iou)\n",
    "    return iou\n",
    "    \n"
   ]
  },
  {
   "cell_type": "code",
   "execution_count": 6,
   "metadata": {},
   "outputs": [],
   "source": [
    "import asyncio\n",
    "\n",
    "loop = asyncio.get_event_loop()\n",
    "\n",
    "async def gather(instances, ld, client, stride, size):\n",
    "    index = 0\n",
    "    while True:\n",
    "        instance = instances[index]\n",
    "        index += 1\n",
    "        if index >= len(instances):\n",
    "            index = 0\n",
    "        X, Y, image, cmap = label_image(instance, ld['train codec'], ld['class names'], client, stride, size)\n",
    "        yield X, Y, image, cmap"
   ]
  },
  {
   "cell_type": "code",
   "execution_count": 7,
   "metadata": {},
   "outputs": [],
   "source": [
    "w_val = 0.01\n",
    "W_M_1 = tf.Variable(np.random.uniform(-w_val, w_val, [4, 4, 3, 32]), dtype=tf.float32, name='WM1')\n",
    "W_M_1_1 = tf.Variable(np.random.uniform(-w_val, w_val, [4, 4, 32, 64]), dtype=tf.float32, name='WM1')\n",
    "W_M_2 = tf.Variable(np.random.uniform(-w_val, w_val, [3, 3, 64, 128]), dtype=tf.float32, name='WM2')\n",
    "W_M_2_2 = tf.Variable(np.random.uniform(-w_val, w_val, [3, 3, 128, 64]), dtype=tf.float32, name='WM2')\n",
    "W_M_3 = tf.Variable(np.random.uniform(-w_val, w_val, [7*7*64, 500]), dtype=tf.float32, name='WM3')\n",
    "W_M_4_F = tf.Variable(np.random.uniform(-w_val, w_val, [500, 1*5]), dtype=tf.float32, name='WM4F')"
   ]
  },
  {
   "cell_type": "code",
   "execution_count": 12,
   "metadata": {
    "scrolled": false
   },
   "outputs": [
    {
     "name": "stdout",
     "output_type": "stream",
     "text": [
      "Started client thread\n"
     ]
    },
    {
     "data": {
      "text/plain": [
       "<Task pending coro=<train() running at <ipython-input-12-031395a39136>:11>>"
      ]
     },
     "execution_count": 12,
     "metadata": {},
     "output_type": "execute_result"
    },
    {
     "name": "stdout",
     "output_type": "stream",
     "text": [
      "2.1361067295074463\n",
      "1.658250331878662\n",
      "1.8384513854980469\n",
      "24.121387481689453\n",
      "1.698871374130249\n",
      "4.041464805603027\n",
      "15.54129695892334\n",
      "0.747767448425293\n",
      "6.45877742767334\n",
      "3.405435800552368\n",
      "7.811623573303223\n",
      "3.2983853816986084\n",
      "8.63420295715332\n",
      "33.65944290161133\n",
      "1.6842844486236572\n",
      "2.852975845336914\n",
      "18.708433151245117\n",
      "3.7692372798919678\n",
      "29.47941780090332\n",
      "2.9699201583862305\n",
      "3.9332265853881836\n",
      "2.2828822135925293\n",
      "10.993517875671387\n",
      "15.594249725341797\n",
      "1.2226189374923706\n",
      "1.455329179763794\n",
      "37.42965316772461\n",
      "1.5879664421081543\n",
      "1.0126070976257324\n",
      "1.2619361877441406\n",
      "13.320914268493652\n",
      "35.35340118408203\n",
      "3.4848194122314453\n",
      "18.868328094482422\n",
      "5.931942462921143\n",
      "3.2897255420684814\n",
      "31.573890686035156\n",
      "19.711944580078125\n",
      "25.136720657348633\n",
      "22.61981964111328\n",
      "10.105950355529785\n",
      "4.5575151443481445\n",
      "7.3466057777404785\n",
      "3.1316771507263184\n",
      "1.5989129543304443\n",
      "1.5779091119766235\n",
      "13.499141693115234\n",
      "1.189758062362671\n",
      "2.583050012588501\n",
      "7.446045875549316\n",
      "29.460397720336914\n",
      "15.323583602905273\n",
      "1.6559685468673706\n",
      "8.337929725646973\n",
      "2.353806495666504\n",
      "2.081132411956787\n",
      "5.0576910972595215\n",
      "35.32324981689453\n",
      "10.37559986114502\n",
      "4.940789222717285\n",
      "2.7225441932678223\n",
      "1.9766188859939575\n",
      "1.271852731704712\n",
      "7.968100547790527\n",
      "5.845409870147705\n",
      "0.9389650821685791\n",
      "2.790053367614746\n",
      "0.9618769288063049\n",
      "1.0615742206573486\n",
      "21.565628051757812\n",
      "30.953285217285156\n",
      "0.9056007266044617\n",
      "29.396337509155273\n",
      "3.1387345790863037\n",
      "17.11979103088379\n",
      "1.0161164999008179\n",
      "9.026692390441895\n",
      "21.774253845214844\n",
      "1.4055020809173584\n",
      "1.757012963294983\n",
      "2.5881237983703613\n",
      "1.661846399307251\n",
      "1.369823694229126\n",
      "4.655289649963379\n",
      "1.845245361328125\n"
     ]
    }
   ],
   "source": [
    "client = OIDClient('192.168.1.31', 33333)\n",
    "\n",
    "loss_value = tf.Variable(0.0, dtype=tf.float32)\n",
    "\n",
    "optimizer = tf.train.AdamOptimizer(learning_rate=0.001)\n",
    "\n",
    "def mean_squared(inputs, targets):\n",
    "  error = inputs - targets\n",
    "  return tf.reduce_mean(tf.square(error))\n",
    "\n",
    "async def train():\n",
    "    async for items in gather(car_images, ld, client, 30, 50):\n",
    "        X, Y, image, cmap = items[0], items[1], items[2], items[3]\n",
    "    \n",
    "        loss = 0.0\n",
    "        #X, Y, image, cmap = label_image(instance, train_image_codec, ld['class names'], client, 30, 50)\n",
    "        #X, Y, image, cmap = gather(car_images, ld, client, 30, 50)\n",
    "\n",
    "        X = np.array(X, dtype=np.float32)\n",
    "        if np.max([image.shape[0], image.shape[1]]) >= 2000:\n",
    "            image = None\n",
    "\n",
    "        if image is not None:\n",
    "            # ONLY CAR\n",
    "            Y = Y[:, :, 570:571, :]\n",
    "\n",
    "            iou_sum = 0.0\n",
    "            iou_mean = 0.0\n",
    "\n",
    "            with tf.GradientTape() as tape:\n",
    "                # ENCODE\n",
    "                X_flat = tf.reshape(X, [X.shape[0]*X.shape[1], X.shape[2], X.shape[3], X.shape[4]])\n",
    "                encode_conv = tf.nn.leaky_relu(tf.nn.conv2d(X_flat, W_M_1, [1, 2, 2, 1], 'SAME'))\n",
    "                encode_conv = tf.nn.leaky_relu(tf.nn.conv2d(encode_conv, W_M_1_1, [1, 2, 2, 1], 'SAME'))\n",
    "                share_conv = encode_conv\n",
    "\n",
    "                share_conv = tf.nn.leaky_relu(tf.nn.conv2d(share_conv, W_M_2, [1, 1, 1, 1], 'SAME'))\n",
    "                share_conv = tf.nn.leaky_relu(tf.nn.conv2d(share_conv, W_M_2_2, [1, 2, 2, 1], 'SAME'))\n",
    "                share_flat = tf.reshape(share_conv, [share_conv.shape[0], W_M_3.shape[0]])\n",
    "\n",
    "                flat_1 = tf.nn.leaky_relu(tf.matmul(share_flat, W_M_3))\n",
    "                Y_pred = tf.matmul(flat_1, W_M_4_F)\n",
    "                class_pred = tf.nn.sigmoid(Y_pred[:, 0])\n",
    "                Y_pred = tf.stack([class_pred, Y_pred[:, 1], Y_pred[:, 2], Y_pred[:, 3], \n",
    "                                   Y_pred[:, 4]], axis=1)\n",
    "                Y_pred = tf.reshape(Y_pred, Y.shape)\n",
    "\n",
    "\n",
    "                iou = calc_iou(Y_pred, Y)\n",
    "                iou_1 = 1.0 - tf.reduce_mean(iou)\n",
    "\n",
    "                ms = mean_squared(Y_pred, Y)\n",
    "                loss_value = ms + iou_1\n",
    "\n",
    "            loss += loss_value.numpy()\n",
    "            params = [W_M_1, W_M_1_1, W_M_2, W_M_2_2, W_M_3, W_M_4_F]\n",
    "            optimizer.apply_gradients(zip(tape.gradient(loss_value, params), params),\n",
    "                                global_step=tf.train.get_or_create_global_step())\n",
    "\n",
    "            img_orig = draw_from_label(image, Y, cmap, 50, 0.0, True)\n",
    "            img_pred = draw_from_label(image, Y_pred.numpy(), cmap, 50, 0.1, True)\n",
    "\n",
    "            #print(Y_pred.numpy()[5, 5])\n",
    "            cv2.imshow('orig', img_orig)\n",
    "            cv2.imshow('pred', img_pred)\n",
    "            if cv2.waitKey(1) & 0xFF == ord('q'):\n",
    "                cv2.destroyAllWindows()\n",
    "                break\n",
    "        print(loss)\n",
    "\n",
    "asyncio.ensure_future(train())"
   ]
  }
 ],
 "metadata": {
  "kernelspec": {
   "display_name": "Python 3",
   "language": "python",
   "name": "python3"
  },
  "language_info": {
   "codemirror_mode": {
    "name": "ipython",
    "version": 3
   },
   "file_extension": ".py",
   "mimetype": "text/x-python",
   "name": "python",
   "nbconvert_exporter": "python",
   "pygments_lexer": "ipython3",
   "version": "3.6.2"
  }
 },
 "nbformat": 4,
 "nbformat_minor": 2
}
