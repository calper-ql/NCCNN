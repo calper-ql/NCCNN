{
 "cells": [
  {
   "cell_type": "code",
   "execution_count": 1,
   "metadata": {},
   "outputs": [
    {
     "name": "stderr",
     "output_type": "stream",
     "text": [
      "Using TensorFlow backend.\n"
     ]
    },
    {
     "name": "stdout",
     "output_type": "stream",
     "text": [
      "{'traffic light': 186117, 'traffic sign': 239686, 'car': 713211, 'person': 91349, 'bus': 11672, 'truck': 29971, 'rider': 4517, 'bike': 7210, 'motor': 3002, 'train': 136}\n",
      "{'traffic light': 0, 'traffic sign': 1, 'car': 2, 'person': 3, 'bus': 4, 'truck': 5, 'rider': 6, 'bike': 7, 'motor': 8, 'train': 9}\n",
      "{'traffic sign': 34908, 'traffic light': 26885, 'car': 102506, 'rider': 649, 'motor': 452, 'person': 13262, 'bus': 1597, 'truck': 4245, 'bike': 1007, 'train': 15}\n",
      "{'traffic sign': 0, 'traffic light': 1, 'car': 2, 'rider': 3, 'motor': 4, 'person': 5, 'bus': 6, 'truck': 7, 'bike': 8, 'train': 9}\n"
     ]
    }
   ],
   "source": [
    "from Util import *\n",
    "from bdd100k_loader import *\n",
    "from matplotlib import pyplot as plt\n",
    "%matplotlib inline\n",
    "import random\n",
    "from livelossplot.keras_plot import PlotLossesKeras\n",
    "\n",
    "import keras\n",
    "from keras.layers import Lambda, Input, Conv2D, MaxPooling2D\n",
    "from keras.models import Model\n",
    "from keras.backend import tf\n",
    "from keras.callbacks import ModelCheckpoint\n",
    "\n",
    "loader = BDD100K_Loader(True)\n",
    "loader_val = BDD100K_Loader(False)\n",
    "color_map = generate_color_from_categories(loader.category_dict, scale=True)\n",
    "rie = loader.reverse_index_encoding"
   ]
  },
  {
   "cell_type": "code",
   "execution_count": 2,
   "metadata": {},
   "outputs": [
    {
     "name": "stdout",
     "output_type": "stream",
     "text": [
      "WARNING:tensorflow:From c:\\users\\calpe\\appdata\\local\\programs\\python\\python36\\lib\\site-packages\\tensorflow\\python\\framework\\op_def_library.py:263: colocate_with (from tensorflow.python.framework.ops) is deprecated and will be removed in a future version.\n",
      "Instructions for updating:\n",
      "Colocations handled automatically by placer.\n",
      "_________________________________________________________________\n",
      "Layer (type)                 Output Shape              Param #   \n",
      "=================================================================\n",
      "input_1 (InputLayer)         (None, None, None, 3)     0         \n",
      "_________________________________________________________________\n",
      "lambda_1 (Lambda)            (None, 270, 480, 3)       0         \n",
      "_________________________________________________________________\n",
      "conv2d_1 (Conv2D)            (None, 268, 478, 32)      896       \n",
      "_________________________________________________________________\n",
      "max_pooling2d_1 (MaxPooling2 (None, 134, 239, 32)      0         \n",
      "_________________________________________________________________\n",
      "conv2d_2 (Conv2D)            (None, 132, 237, 64)      18496     \n",
      "_________________________________________________________________\n",
      "max_pooling2d_2 (MaxPooling2 (None, 66, 118, 64)       0         \n",
      "_________________________________________________________________\n",
      "conv2d_3 (Conv2D)            (None, 64, 116, 128)      73856     \n",
      "_________________________________________________________________\n",
      "conv2d_4 (Conv2D)            (None, 64, 116, 64)       8256      \n",
      "_________________________________________________________________\n",
      "conv2d_5 (Conv2D)            (None, 62, 114, 128)      73856     \n",
      "_________________________________________________________________\n",
      "max_pooling2d_3 (MaxPooling2 (None, 31, 57, 128)       0         \n",
      "_________________________________________________________________\n",
      "conv2d_6 (Conv2D)            (None, 29, 55, 256)       295168    \n",
      "_________________________________________________________________\n",
      "conv2d_7 (Conv2D)            (None, 29, 55, 512)       131584    \n",
      "_________________________________________________________________\n",
      "conv2d_8 (Conv2D)            (None, 27, 53, 256)       1179904   \n",
      "_________________________________________________________________\n",
      "conv2d_9 (Conv2D)            (None, 27, 53, 512)       131584    \n",
      "_________________________________________________________________\n",
      "conv2d_10 (Conv2D)           (None, 25, 51, 256)       1179904   \n",
      "_________________________________________________________________\n",
      "max_pooling2d_4 (MaxPooling2 (None, 12, 25, 256)       0         \n",
      "_________________________________________________________________\n",
      "conv2d_11 (Conv2D)           (None, 10, 23, 512)       1180160   \n",
      "_________________________________________________________________\n",
      "conv2d_12 (Conv2D)           (None, 10, 23, 1024)      525312    \n",
      "_________________________________________________________________\n",
      "conv2d_13 (Conv2D)           (None, 8, 21, 512)        4719104   \n",
      "_________________________________________________________________\n",
      "conv2d_14 (Conv2D)           (None, 8, 21, 1024)       525312    \n",
      "_________________________________________________________________\n",
      "conv2d_15 (Conv2D)           (None, 6, 19, 70)         645190    \n",
      "=================================================================\n",
      "Total params: 10,688,582\n",
      "Trainable params: 10,688,582\n",
      "Non-trainable params: 0\n",
      "_________________________________________________________________\n"
     ]
    },
    {
     "name": "stderr",
     "output_type": "stream",
     "text": [
      "c:\\users\\calpe\\appdata\\local\\programs\\python\\python36\\lib\\site-packages\\ipykernel_launcher.py:28: UserWarning: Update your `Model` call to the Keras 2 API: `Model(inputs=Tensor(\"in..., outputs=Tensor(\"co...)`\n"
     ]
    }
   ],
   "source": [
    "inp = Input(shape=(None, None, 3))\n",
    "resized = Lambda(lambda image: tf.image.resize_images(image, (270, 480))/255.0)(inp)\n",
    "\n",
    "conv = Conv2D(kernel_size = (3,3), filters = 32, activation=tf.nn.leaky_relu)(resized)\n",
    "mp = MaxPooling2D(pool_size = (2,2))(conv)\n",
    "\n",
    "conv = Conv2D(kernel_size = (3,3), filters = 64, activation=tf.nn.leaky_relu)(mp)\n",
    "mp = MaxPooling2D(pool_size = (2,2))(conv)\n",
    "\n",
    "conv = Conv2D(kernel_size = (3,3), filters = 128, activation=tf.nn.leaky_relu)(mp)\n",
    "conv = Conv2D(kernel_size = (1,1), filters = 64, activation=tf.nn.leaky_relu)(conv)\n",
    "conv = Conv2D(kernel_size = (3,3), filters = 128, activation=tf.nn.leaky_relu)(conv)\n",
    "mp = MaxPooling2D(pool_size = (2,2))(conv)\n",
    "\n",
    "conv = Conv2D(kernel_size = (3,3), filters = 256, activation=tf.nn.leaky_relu)(mp)\n",
    "conv = Conv2D(kernel_size = (1,1), filters = 512, activation=tf.nn.leaky_relu)(conv)\n",
    "conv = Conv2D(kernel_size = (3,3), filters = 256, activation=tf.nn.leaky_relu)(conv)\n",
    "conv = Conv2D(kernel_size = (1,1), filters = 512, activation=tf.nn.leaky_relu)(conv)\n",
    "conv = Conv2D(kernel_size = (3,3), filters = 256, activation=tf.nn.leaky_relu)(conv)\n",
    "mp = MaxPooling2D(pool_size = (2,2))(conv)\n",
    "\n",
    "conv = Conv2D(kernel_size = (3,3), filters = 512, activation=tf.nn.leaky_relu)(mp)\n",
    "conv = Conv2D(kernel_size = (1,1), filters = 1024, activation=tf.nn.leaky_relu)(conv)\n",
    "conv = Conv2D(kernel_size = (3,3), filters = 512, activation=tf.nn.leaky_relu)(conv)\n",
    "conv = Conv2D(kernel_size = (1,1), filters = 1024, activation=tf.nn.leaky_relu)(conv)\n",
    "conv = Conv2D(kernel_size = (3,3), filters = 14*5, activation=tf.nn.sigmoid)(conv)\n",
    "\n",
    "model = Model(input=inp, output=conv)\n",
    "model.summary()   "
   ]
  },
  {
   "cell_type": "code",
   "execution_count": 12,
   "metadata": {},
   "outputs": [],
   "source": [
    "class DataGenerator(keras.utils.Sequence):\n",
    "    def __init__(self, loader, batch_size=4):\n",
    "        self.loader = loader\n",
    "        self.batch_size = batch_size\n",
    "        self.batch_count = 3#(self.loader.size//batch_size)+1\n",
    "        self.patch_area = [6, 19]\n",
    "        self.patch_depth = 5\n",
    "        \n",
    "    def __len__(self):\n",
    "        return self.batch_count\n",
    "    \n",
    "    def __getitem__(self, index):\n",
    "        X = np.zeros([self.batch_size, 720, 1280, 3])\n",
    "        Y = np.zeros([self.batch_size, \n",
    "                      self.patch_area[0], \n",
    "                      self.patch_area[1],\n",
    "                      self.patch_depth*self.loader.encode_length])\n",
    "        i = index*self.batch_size\n",
    "        b = 0\n",
    "        while b < self.batch_size:\n",
    "            x, y = loader.gather(i, self.patch_area, self.patch_depth)\n",
    "            if x is not None:\n",
    "                X[b] = x\n",
    "                Y[b] = y\n",
    "                i += 1\n",
    "                b += 1\n",
    "            else:\n",
    "                i = 0\n",
    "        return X, Y\n",
    "    \n",
    "    def on_epoch_end(self):\n",
    "        pass"
   ]
  },
  {
   "cell_type": "code",
   "execution_count": null,
   "metadata": {},
   "outputs": [
    {
     "name": "stdout",
     "output_type": "stream",
     "text": [
      "Epoch 1/100\n"
     ]
    }
   ],
   "source": [
    "checkpoint = ModelCheckpoint('weights/weights-improvement-{epoch:02d}-{val_loss:.2f}.hdf5', \n",
    "                             monitor='val_loss', verbose=1, save_best_only=True, mode='max')\n",
    "training_generator = DataGenerator(loader)\n",
    "validation_generator = DataGenerator(loader_val)\n",
    "model.compile(optimizer='adam', loss='mse')\n",
    "\n",
    "model.fit_generator(generator=training_generator,\n",
    "                    validation_data=validation_generator,\n",
    "                    verbose=True,\n",
    "                    epochs=100,\n",
    "                    callbacks=[PlotLossesKeras(), checkpoint])"
   ]
  }
 ],
 "metadata": {
  "kernelspec": {
   "display_name": "Python 3",
   "language": "python",
   "name": "python3"
  },
  "language_info": {
   "codemirror_mode": {
    "name": "ipython",
    "version": 3
   },
   "file_extension": ".py",
   "mimetype": "text/x-python",
   "name": "python",
   "nbconvert_exporter": "python",
   "pygments_lexer": "ipython3",
   "version": "3.6.2"
  }
 },
 "nbformat": 4,
 "nbformat_minor": 2
}
