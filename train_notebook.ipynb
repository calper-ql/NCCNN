{
 "cells": [
  {
   "cell_type": "code",
   "execution_count": 1,
   "metadata": {},
   "outputs": [],
   "source": [
    "import scan_csv\n",
    "from FastSlidingWindow import *\n",
    "from Util import *\n",
    "from bbd100k_loader import *\n",
    "from scan_csv import progress\n",
    "\n",
    "loader = BBD100K_Loader(True)\n",
    "color_map = generate_color_from_categories(loader.category_dict)"
   ]
  },
  {
   "cell_type": "code",
   "execution_count": 2,
   "metadata": {},
   "outputs": [],
   "source": [
    "import tensorflow as tf\n",
    "import numpy as np\n",
    "tf.enable_eager_execution()\n",
    "config = tf.ConfigProto()\n",
    "config.gpu_options.allow_growth=True\n",
    "tf.Session(config=config).close()"
   ]
  },
  {
   "cell_type": "code",
   "execution_count": 11,
   "metadata": {},
   "outputs": [],
   "source": [
    "def calc_iou(Y_pred, Y):\n",
    "    #print(Y_pred.shape)\n",
    "    zeros = np.zeros([Y_pred.shape[0], Y_pred.shape[1], Y_pred.shape[2], 1], dtype=np.float32)\n",
    "    y2 = tf.reshape(Y_pred[:, :, :, 2], [Y_pred.shape[0], Y_pred.shape[1], Y_pred.shape[2], 1])\n",
    "    y4 = tf.reshape(Y_pred[:, :, :, 4], [Y_pred.shape[0], Y_pred.shape[1], Y_pred.shape[2], 1])\n",
    "    pred_x_w = tf.where(y2 > 0.0, y2, zeros) \n",
    "    pred_x_h = tf.where(y4 > 0.0, y4, zeros) \n",
    "    \n",
    "    x1_t = Y_pred[:, :, :, 1:2] - Y[:, :, :, 2:3] / 2.0\n",
    "    x2_t = Y_pred[:, :, :, 1:2] + Y[:, :, :, 2:3] / 2.0\n",
    "    \n",
    "    y1_t = Y_pred[:, :, :, 3:4] - Y[:, :, :, 4:5] / 2.0\n",
    "    y2_t = Y_pred[:, :, :, 3:4] + Y[:, :, :, 4:5] / 2.0\n",
    "    \n",
    "    x1_p = Y_pred[:, :, :, 1:2] - pred_x_w / 2.0\n",
    "    x2_p = Y_pred[:, :, :, 1:2] + pred_x_w / 2.0\n",
    "    \n",
    "    y1_p = Y_pred[:, :, :, 3:4] - pred_x_h / 2.0\n",
    "    y2_p = Y_pred[:, :, :, 3:4] + pred_x_h / 2.0\n",
    "    \n",
    "    cond1 = x2_t < x1_p\n",
    "    cond2 = x2_p < x1_t\n",
    "    cond3 = y2_t < y1_p\n",
    "    cond4 = y2_p < y1_t\n",
    "    cond_all = tf.logical_or(tf.logical_or(tf.logical_or(cond1, cond2), cond3), cond4)\n",
    "    \n",
    "    ious_np = np.zeros([Y_pred.shape[0], Y_pred.shape[1], Y_pred.shape[2], 1], dtype=np.float32)\n",
    "    \n",
    "    far_x = tf.where(x2_t < x2_p, x2_t, x2_p)\n",
    "    near_x = tf.where(x1_t > x1_p, x1_t, x1_p)\n",
    "    far_y = tf.where(y2_t < y2_p, y2_t, y2_p)\n",
    "    near_y = tf.where(y1_t > y1_p, y1_t, y1_p)\n",
    "    \n",
    "    inter_area = (far_x - near_x + 1.0) * (far_y - near_y + 1.0)\n",
    "    true_box_area = (x2_t - x1_t + 1.0) * (y2_t - y1_t + 1.0)\n",
    "    pred_box_area = (x2_p - x1_p + 1.0) * (y2_p - y1_p + 1.0)\n",
    "    iou = inter_area / (true_box_area + pred_box_area - inter_area)\n",
    "    iou = tf.where(cond_all, ious_np, iou)\n",
    "    return iou\n",
    "    \n"
   ]
  },
  {
   "cell_type": "code",
   "execution_count": 4,
   "metadata": {},
   "outputs": [],
   "source": [
    "w_val = 0.01\n",
    "W_M_1 = tf.Variable(np.random.uniform(-w_val, w_val, [3, 3, 3, 32]), dtype=tf.float32, name='WM1')\n",
    "W_M_1_1 = tf.Variable(np.random.uniform(-w_val, w_val, [3, 3, 32, 64]), dtype=tf.float32, name='WM11')\n",
    "W_M_2 = tf.Variable(np.random.uniform(-w_val, w_val, [3, 3, 64, 128]), dtype=tf.float32, name='WM2')\n",
    "W_M_2_1 = tf.Variable(np.random.uniform(-w_val, w_val, [3, 3, 128, 256]), dtype=tf.float32, name='WM21')\n",
    "W_M_2_2 = tf.Variable(np.random.uniform(-w_val, w_val, [3, 3, 256, 512]), dtype=tf.float32, name='WM22')\n",
    "W_M_3 = tf.Variable(np.random.uniform(-w_val, w_val, [5*5*512, 512]), dtype=tf.float32, name='WM3')\n",
    "W_M_4_F = tf.Variable(np.random.uniform(-w_val, w_val, [512, len(loader.category_dict)*5]), dtype=tf.float32, name='WM4F')"
   ]
  },
  {
   "cell_type": "code",
   "execution_count": null,
   "metadata": {
    "scrolled": true
   },
   "outputs": [
    {
     "name": "stdout",
     "output_type": "stream",
     "text": [
      "[----------------------------------------] 0.3% -> 213\r"
     ]
    }
   ],
   "source": [
    "loss_value = tf.Variable(0.0, dtype=tf.float32)\n",
    "optimizer = tf.train.AdamOptimizer(learning_rate=0.001)\n",
    "\n",
    "def mean_squared(inputs, targets):\n",
    "  error = inputs - targets\n",
    "  return tf.reduce_mean(tf.square(error))\n",
    "\n",
    "patch_size = 150\n",
    "stride = 50\n",
    "\n",
    "index = 0\n",
    "loss = 0.0\n",
    "while True:\n",
    "    X, Y, image, cmap = loader.gather(index, stride, patch_size, 0.1)\n",
    "    \n",
    "    X = np.array(X, dtype=np.float32)\n",
    "    if image is not None:\n",
    "        if np.max([image.shape[0], image.shape[1]]) >= 2000:\n",
    "            image = None\n",
    "\n",
    "    if image is not None:\n",
    "        iou_sum = 0.0\n",
    "        iou_mean = 0.0\n",
    "        \n",
    "        with tf.GradientTape() as tape:\n",
    "            # ENCODE\n",
    "            X_flat = tf.reshape(X, [X.shape[0]*X.shape[1], X.shape[2], X.shape[3], X.shape[4]])\n",
    "            encode_conv = tf.nn.leaky_relu(tf.nn.conv2d(X_flat, W_M_1, [1, 2, 2, 1], 'SAME'))\n",
    "            encode_conv = tf.nn.leaky_relu(tf.nn.conv2d(encode_conv, W_M_1_1, [1, 2, 2, 1], 'SAME'))\n",
    "            share_conv = encode_conv\n",
    "        \n",
    "            share_conv = tf.nn.leaky_relu(tf.nn.conv2d(share_conv, W_M_2, [1, 2, 2, 1], 'SAME'))\n",
    "            share_conv = tf.nn.leaky_relu(tf.nn.conv2d(share_conv, W_M_2_1, [1, 2, 2, 1], 'SAME'))\n",
    "            share_conv = tf.nn.leaky_relu(tf.nn.conv2d(share_conv, W_M_2_2, [1, 2, 2, 1], 'SAME'))\n",
    "            #print(share_conv.shape)\n",
    "            share_flat = tf.reshape(share_conv, [share_conv.shape[0], W_M_3.shape[0]])\n",
    "            \n",
    "            flat_1 = tf.nn.leaky_relu(tf.matmul(share_flat, W_M_3))\n",
    "            Y_pred = tf.matmul(flat_1, W_M_4_F)\n",
    "            Y_pred = tf.reshape(Y_pred, [Y_pred.shape[0], len(loader.category_dict), 5])\n",
    "            class_pred = tf.nn.sigmoid(Y_pred[:, :, 0])\n",
    "            Y_pred = tf.stack([class_pred, Y_pred[:, :, 1], Y_pred[:, :, 2], Y_pred[:, :, 3], Y_pred[:, :, 4]], axis=1)\n",
    "            Y_pred = tf.reshape(Y_pred, Y.shape)\n",
    "\n",
    "            iou = calc_iou(Y_pred, Y)\n",
    "            iou_1 = 1.0 - tf.reduce_mean(iou)\n",
    "\n",
    "            ms = mean_squared(Y_pred[:, :, :, :], Y[:, :, :, :])\n",
    "            loss_value = ms*1000.0 \n",
    "\n",
    "        loss += loss_value.numpy()\n",
    "        params = [W_M_1, W_M_1_1, W_M_2, W_M_2_2, W_M_3, W_M_4_F]\n",
    "        optimizer.apply_gradients(zip(tape.gradient(loss_value, params), params),\n",
    "                            global_step=tf.train.get_or_create_global_step())\n",
    "        \n",
    "        img_orig = draw_from_label(image, Y, cmap, patch_size, color_map, 0.1, draw_patches=False, max_count=1000)\n",
    "        img_pred = draw_from_label(image, Y_pred.numpy(), cmap, patch_size, color_map, 0.9, draw_patches=True)\n",
    "\n",
    "        cv2.imshow('orig', img_orig)\n",
    "        cv2.imshow('pred', img_pred)\n",
    "        if cv2.waitKey(1) & 0xFF == ord('q'):\n",
    "            cv2.destroyAllWindows()\n",
    "            break\n",
    "    progress(index, loader.image_count, index)\n",
    "    index += 1\n",
    "    if index >= loader.image_count:\n",
    "        index = 0\n",
    "        print(' ' + str(loss))\n",
    "        loss = 0.0"
   ]
  }
 ],
 "metadata": {
  "kernelspec": {
   "display_name": "Python 3",
   "language": "python",
   "name": "python3"
  },
  "language_info": {
   "codemirror_mode": {
    "name": "ipython",
    "version": 3
   },
   "file_extension": ".py",
   "mimetype": "text/x-python",
   "name": "python",
   "nbconvert_exporter": "python",
   "pygments_lexer": "ipython3",
   "version": "3.6.2"
  }
 },
 "nbformat": 4,
 "nbformat_minor": 2
}
